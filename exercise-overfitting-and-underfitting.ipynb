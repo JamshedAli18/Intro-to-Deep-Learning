{
 "cells": [
  {
   "cell_type": "markdown",
   "id": "5a4fe8c0",
   "metadata": {
    "papermill": {
     "duration": 0.00408,
     "end_time": "2025-04-07T12:54:37.096241",
     "exception": false,
     "start_time": "2025-04-07T12:54:37.092161",
     "status": "completed"
    },
    "tags": []
   },
   "source": [
    "**This notebook is an exercise in the [Intro to Deep Learning](https://www.kaggle.com/learn/intro-to-deep-learning) course.  You can reference the tutorial at [this link](https://www.kaggle.com/ryanholbrook/overfitting-and-underfitting).**\n",
    "\n",
    "---\n"
   ]
  },
  {
   "cell_type": "markdown",
   "id": "69fa7fa3",
   "metadata": {
    "papermill": {
     "duration": 0.003159,
     "end_time": "2025-04-07T12:54:37.103144",
     "exception": false,
     "start_time": "2025-04-07T12:54:37.099985",
     "status": "completed"
    },
    "tags": []
   },
   "source": [
    "# Introduction #\n",
    "\n",
    "In this exercise, you’ll learn how to improve training outcomes by including an early stopping callback to prevent overfitting.\n",
    "\n",
    "When you're ready, run this next cell to set everything up!"
   ]
  },
  {
   "cell_type": "code",
   "execution_count": 1,
   "id": "534161b4",
   "metadata": {
    "execution": {
     "iopub.execute_input": "2025-04-07T12:54:37.112850Z",
     "iopub.status.busy": "2025-04-07T12:54:37.112186Z",
     "iopub.status.idle": "2025-04-07T12:54:37.894269Z",
     "shell.execute_reply": "2025-04-07T12:54:37.893580Z"
    },
    "papermill": {
     "duration": 0.789477,
     "end_time": "2025-04-07T12:54:37.896221",
     "exception": false,
     "start_time": "2025-04-07T12:54:37.106744",
     "status": "completed"
    },
    "tags": []
   },
   "outputs": [
    {
     "name": "stderr",
     "output_type": "stream",
     "text": [
      "/tmp/ipykernel_26/1500229236.py:3: MatplotlibDeprecationWarning: The seaborn styles shipped by Matplotlib are deprecated since 3.6, as they no longer correspond to the styles shipped by seaborn. However, they will remain available as 'seaborn-v0_8-<style>'. Alternatively, directly use the seaborn API instead.\n",
      "  plt.style.use('seaborn-whitegrid')\n"
     ]
    }
   ],
   "source": [
    "# Setup plotting\n",
    "import matplotlib.pyplot as plt\n",
    "plt.style.use('seaborn-whitegrid')\n",
    "# Set Matplotlib defaults\n",
    "plt.rc('figure', autolayout=True)\n",
    "plt.rc('axes', labelweight='bold', labelsize='large',\n",
    "       titleweight='bold', titlesize=18, titlepad=10)\n",
    "plt.rc('animation', html='html5')\n",
    "\n",
    "# Setup feedback system\n",
    "from learntools.core import binder\n",
    "binder.bind(globals())\n",
    "from learntools.deep_learning_intro.ex4 import *"
   ]
  },
  {
   "cell_type": "markdown",
   "id": "24e8c67b",
   "metadata": {
    "papermill": {
     "duration": 0.003128,
     "end_time": "2025-04-07T12:54:37.902949",
     "exception": false,
     "start_time": "2025-04-07T12:54:37.899821",
     "status": "completed"
    },
    "tags": []
   },
   "source": [
    "First load the *Spotify* dataset. Your task will be to predict the popularity of a song based on various audio features, like `'tempo'`, `'danceability'`, and `'mode'`."
   ]
  },
  {
   "cell_type": "code",
   "execution_count": 2,
   "id": "cd693e8d",
   "metadata": {
    "execution": {
     "iopub.execute_input": "2025-04-07T12:54:37.911053Z",
     "iopub.status.busy": "2025-04-07T12:54:37.910270Z",
     "iopub.status.idle": "2025-04-07T12:54:50.955341Z",
     "shell.execute_reply": "2025-04-07T12:54:50.954367Z"
    },
    "papermill": {
     "duration": 13.052262,
     "end_time": "2025-04-07T12:54:50.958427",
     "exception": false,
     "start_time": "2025-04-07T12:54:37.906165",
     "status": "completed"
    },
    "tags": []
   },
   "outputs": [
    {
     "name": "stderr",
     "output_type": "stream",
     "text": [
      "2025-04-07 12:54:40.877037: E external/local_xla/xla/stream_executor/cuda/cuda_dnn.cc:9261] Unable to register cuDNN factory: Attempting to register factory for plugin cuDNN when one has already been registered\n",
      "2025-04-07 12:54:40.877154: E external/local_xla/xla/stream_executor/cuda/cuda_fft.cc:607] Unable to register cuFFT factory: Attempting to register factory for plugin cuFFT when one has already been registered\n",
      "2025-04-07 12:54:41.014922: E external/local_xla/xla/stream_executor/cuda/cuda_blas.cc:1515] Unable to register cuBLAS factory: Attempting to register factory for plugin cuBLAS when one has already been registered\n"
     ]
    },
    {
     "name": "stdout",
     "output_type": "stream",
     "text": [
      "Input shape: [18]\n"
     ]
    }
   ],
   "source": [
    "import pandas as pd\n",
    "from sklearn.preprocessing import StandardScaler, OneHotEncoder\n",
    "from sklearn.compose import make_column_transformer\n",
    "from sklearn.model_selection import GroupShuffleSplit\n",
    "\n",
    "from tensorflow import keras\n",
    "from tensorflow.keras import layers\n",
    "from tensorflow.keras import callbacks\n",
    "\n",
    "spotify = pd.read_csv('../input/dl-course-data/spotify.csv')\n",
    "\n",
    "X = spotify.copy().dropna()\n",
    "y = X.pop('track_popularity')\n",
    "artists = X['track_artist']\n",
    "\n",
    "features_num = ['danceability', 'energy', 'key', 'loudness', 'mode',\n",
    "                'speechiness', 'acousticness', 'instrumentalness',\n",
    "                'liveness', 'valence', 'tempo', 'duration_ms']\n",
    "features_cat = ['playlist_genre']\n",
    "\n",
    "preprocessor = make_column_transformer(\n",
    "    (StandardScaler(), features_num),\n",
    "    (OneHotEncoder(), features_cat),\n",
    ")\n",
    "\n",
    "# We'll do a \"grouped\" split to keep all of an artist's songs in one\n",
    "# split or the other. This is to help prevent signal leakage.\n",
    "def group_split(X, y, group, train_size=0.75):\n",
    "    splitter = GroupShuffleSplit(train_size=train_size)\n",
    "    train, test = next(splitter.split(X, y, groups=group))\n",
    "    return (X.iloc[train], X.iloc[test], y.iloc[train], y.iloc[test])\n",
    "\n",
    "X_train, X_valid, y_train, y_valid = group_split(X, y, artists)\n",
    "\n",
    "X_train = preprocessor.fit_transform(X_train)\n",
    "X_valid = preprocessor.transform(X_valid)\n",
    "y_train = y_train / 100 # popularity is on a scale 0-100, so this rescales to 0-1.\n",
    "y_valid = y_valid / 100\n",
    "\n",
    "input_shape = [X_train.shape[1]]\n",
    "print(\"Input shape: {}\".format(input_shape))"
   ]
  },
  {
   "cell_type": "markdown",
   "id": "0dfb67db",
   "metadata": {
    "papermill": {
     "duration": 0.003942,
     "end_time": "2025-04-07T12:54:50.969116",
     "exception": false,
     "start_time": "2025-04-07T12:54:50.965174",
     "status": "completed"
    },
    "tags": []
   },
   "source": [
    "Let's start with the simplest network, a linear model. This model has low capacity.\n",
    "\n",
    "Run this next cell without any changes to train a linear model on the *Spotify* dataset."
   ]
  },
  {
   "cell_type": "code",
   "execution_count": 3,
   "id": "5dcbcc9b",
   "metadata": {
    "execution": {
     "iopub.execute_input": "2025-04-07T12:54:50.980125Z",
     "iopub.status.busy": "2025-04-07T12:54:50.979699Z",
     "iopub.status.idle": "2025-04-07T12:54:59.853315Z",
     "shell.execute_reply": "2025-04-07T12:54:59.852509Z"
    },
    "lines_to_next_cell": 0,
    "papermill": {
     "duration": 8.881476,
     "end_time": "2025-04-07T12:54:59.855113",
     "exception": false,
     "start_time": "2025-04-07T12:54:50.973637",
     "status": "completed"
    },
    "tags": []
   },
   "outputs": [
    {
     "name": "stderr",
     "output_type": "stream",
     "text": [
      "WARNING: All log messages before absl::InitializeLog() is called are written to STDERR\n",
      "I0000 00:00:1744030493.150609      66 device_compiler.h:186] Compiled cluster using XLA!  This line is logged at most once for the lifetime of the process.\n"
     ]
    },
    {
     "name": "stdout",
     "output_type": "stream",
     "text": [
      "Minimum Validation Loss: 0.1975\n"
     ]
    },
    {
     "data": {
      "image/png": "[encoded data removed]",
      "text/plain": [
       "<Figure size 640x480 with 1 Axes>"
      ]
     },
     "metadata": {},
     "output_type": "display_data"
    }
   ],
   "source": [
    "model = keras.Sequential([\n",
    "    layers.Dense(1, input_shape=input_shape),\n",
    "])\n",
    "model.compile(\n",
    "    optimizer='adam',\n",
    "    loss='mae',\n",
    ")\n",
    "history = model.fit(\n",
    "    X_train, y_train,\n",
    "    validation_data=(X_valid, y_valid),\n",
    "    batch_size=512,\n",
    "    epochs=50,\n",
    "    verbose=0, # suppress output since we'll plot the curves\n",
    ")\n",
    "history_df = pd.DataFrame(history.history)\n",
    "history_df.loc[0:, ['loss', 'val_loss']].plot()\n",
    "print(\"Minimum Validation Loss: {:0.4f}\".format(history_df['val_loss'].min()));"
   ]
  },
  {
   "cell_type": "markdown",
   "id": "24134298",
   "metadata": {
    "papermill": {
     "duration": 0.004922,
     "end_time": "2025-04-07T12:54:59.864186",
     "exception": false,
     "start_time": "2025-04-07T12:54:59.859264",
     "status": "completed"
    },
    "tags": []
   },
   "source": [
    "It's not uncommon for the curves to follow a \"hockey stick\" pattern like you see here. This makes the final part of training hard to see, so let's start at epoch 10 instead:"
   ]
  },
  {
   "cell_type": "code",
   "execution_count": 4,
   "id": "0c464d07",
   "metadata": {
    "execution": {
     "iopub.execute_input": "2025-04-07T12:54:59.873378Z",
     "iopub.status.busy": "2025-04-07T12:54:59.872718Z",
     "iopub.status.idle": "2025-04-07T12:55:00.123153Z",
     "shell.execute_reply": "2025-04-07T12:55:00.122364Z"
    },
    "papermill": {
     "duration": 0.256947,
     "end_time": "2025-04-07T12:55:00.124963",
     "exception": false,
     "start_time": "2025-04-07T12:54:59.868016",
     "status": "completed"
    },
    "tags": []
   },
   "outputs": [
    {
     "name": "stdout",
     "output_type": "stream",
     "text": [
      "Minimum Validation Loss: 0.1975\n"
     ]
    },
    {
     "data": {
      "image/png": "[encoded data removed]",
      "text/plain": [
       "<Figure size 640x480 with 1 Axes>"
      ]
     },
     "metadata": {},
     "output_type": "display_data"
    }
   ],
   "source": [
    "# Start the plot at epoch 10\n",
    "history_df.loc[10:, ['loss', 'val_loss']].plot()\n",
    "print(\"Minimum Validation Loss: {:0.4f}\".format(history_df['val_loss'].min()));"
   ]
  },
  {
   "cell_type": "markdown",
   "id": "53dba2eb",
   "metadata": {
    "papermill": {
     "duration": 0.004083,
     "end_time": "2025-04-07T12:55:00.133518",
     "exception": false,
     "start_time": "2025-04-07T12:55:00.129435",
     "status": "completed"
    },
    "tags": []
   },
   "source": [
    "# 1) Evaluate Baseline\n",
    "\n",
    "What do you think? Would you say this model is underfitting, overfitting, just right?"
   ]
  },
  {
   "cell_type": "code",
   "execution_count": 5,
   "id": "387c272b",
   "metadata": {
    "execution": {
     "iopub.execute_input": "2025-04-07T12:55:00.143800Z",
     "iopub.status.busy": "2025-04-07T12:55:00.143547Z",
     "iopub.status.idle": "2025-04-07T12:55:00.150447Z",
     "shell.execute_reply": "2025-04-07T12:55:00.149668Z"
    },
    "papermill": {
     "duration": 0.013523,
     "end_time": "2025-04-07T12:55:00.152041",
     "exception": false,
     "start_time": "2025-04-07T12:55:00.138518",
     "status": "completed"
    },
    "tags": []
   },
   "outputs": [
    {
     "data": {
      "application/javascript": [
       "parent.postMessage({\"jupyterEvent\": \"custom.exercise_interaction\", \"data\": {\"outcomeType\": 1, \"valueTowardsCompletion\": 0.25, \"interactionType\": 1, \"questionType\": 4, \"questionId\": \"1_Q1\", \"learnToolsVersion\": \"0.3.4\", \"failureMessage\": \"\", \"exceptionClass\": \"\", \"trace\": \"\"}}, \"*\")"
      ],
      "text/plain": [
       "<IPython.core.display.Javascript object>"
      ]
     },
     "metadata": {},
     "output_type": "display_data"
    },
    {
     "data": {
      "text/markdown": [
       "<span style=\"color:#33cc33\">Correct:</span> \n",
       "\n",
       "The gap between these curves is quite small and the validation loss never increases, so it's more likely that the network is underfitting than overfitting. It would be worth experimenting with more capacity to see if that's the case."
      ],
      "text/plain": [
       "Correct: \n",
       "\n",
       "The gap between these curves is quite small and the validation loss never increases, so it's more likely that the network is underfitting than overfitting. It would be worth experimenting with more capacity to see if that's the case."
      ]
     },
     "metadata": {},
     "output_type": "display_data"
    }
   ],
   "source": [
    "# View the solution (Run this cell to receive credit!)\n",
    "q_1.check()"
   ]
  },
  {
   "cell_type": "markdown",
   "id": "4418f113",
   "metadata": {
    "papermill": {
     "duration": 0.004379,
     "end_time": "2025-04-07T12:55:00.160904",
     "exception": false,
     "start_time": "2025-04-07T12:55:00.156525",
     "status": "completed"
    },
    "tags": []
   },
   "source": [
    "Now let's add some capacity to our network. We'll add three hidden layers with 128 units each. Run the next cell to train the network and see the learning curves."
   ]
  },
  {
   "cell_type": "code",
   "execution_count": 6,
   "id": "672bf588",
   "metadata": {
    "execution": {
     "iopub.execute_input": "2025-04-07T12:55:00.170552Z",
     "iopub.status.busy": "2025-04-07T12:55:00.170325Z",
     "iopub.status.idle": "2025-04-07T12:55:09.922241Z",
     "shell.execute_reply": "2025-04-07T12:55:09.921372Z"
    },
    "papermill": {
     "duration": 9.758792,
     "end_time": "2025-04-07T12:55:09.924010",
     "exception": false,
     "start_time": "2025-04-07T12:55:00.165218",
     "status": "completed"
    },
    "tags": []
   },
   "outputs": [
    {
     "name": "stdout",
     "output_type": "stream",
     "text": [
      "Epoch 1/50\n",
      "48/48 [==============================] - 1s 5ms/step - loss: 0.2179 - val_loss: 0.2066\n",
      "Epoch 2/50\n",
      "48/48 [==============================] - 0s 3ms/step - loss: 0.2003 - val_loss: 0.2031\n",
      "Epoch 3/50\n",
      "48/48 [==============================] - 0s 3ms/step - loss: 0.1954 - val_loss: 0.2015\n",
      "Epoch 4/50\n",
      "48/48 [==============================] - 0s 3ms/step - loss: 0.1922 - val_loss: 0.2000\n",
      "Epoch 5/50\n",
      "48/48 [==============================] - 0s 3ms/step - loss: 0.1897 - val_loss: 0.1988\n",
      "Epoch 6/50\n",
      "48/48 [==============================] - 0s 4ms/step - loss: 0.1885 - val_loss: 0.2042\n",
      "Epoch 7/50\n",
      "48/48 [==============================] - 0s 3ms/step - loss: 0.1882 - val_loss: 0.1998\n",
      "Epoch 8/50\n",
      "48/48 [==============================] - 0s 3ms/step - loss: 0.1872 - val_loss: 0.2011\n",
      "Epoch 9/50\n",
      "48/48 [==============================] - 0s 3ms/step - loss: 0.1850 - val_loss: 0.2021\n",
      "Epoch 10/50\n",
      "48/48 [==============================] - 0s 3ms/step - loss: 0.1851 - val_loss: 0.1988\n",
      "Epoch 11/50\n",
      "48/48 [==============================] - 0s 3ms/step - loss: 0.1836 - val_loss: 0.1987\n",
      "Epoch 12/50\n",
      "48/48 [==============================] - 0s 3ms/step - loss: 0.1836 - val_loss: 0.1980\n",
      "Epoch 13/50\n",
      "48/48 [==============================] - 0s 3ms/step - loss: 0.1822 - val_loss: 0.1982\n",
      "Epoch 14/50\n",
      "48/48 [==============================] - 0s 3ms/step - loss: 0.1813 - val_loss: 0.1987\n",
      "Epoch 15/50\n",
      "48/48 [==============================] - 0s 3ms/step - loss: 0.1810 - val_loss: 0.1994\n",
      "Epoch 16/50\n",
      "48/48 [==============================] - 0s 3ms/step - loss: 0.1802 - val_loss: 0.1985\n",
      "Epoch 17/50\n",
      "48/48 [==============================] - 0s 3ms/step - loss: 0.1793 - val_loss: 0.1992\n",
      "Epoch 18/50\n",
      "48/48 [==============================] - 0s 3ms/step - loss: 0.1791 - val_loss: 0.2007\n",
      "Epoch 19/50\n",
      "48/48 [==============================] - 0s 3ms/step - loss: 0.1780 - val_loss: 0.2001\n",
      "Epoch 20/50\n",
      "48/48 [==============================] - 0s 3ms/step - loss: 0.1779 - val_loss: 0.2002\n",
      "Epoch 21/50\n",
      "48/48 [==============================] - 0s 3ms/step - loss: 0.1778 - val_loss: 0.2015\n",
      "Epoch 22/50\n",
      "48/48 [==============================] - 0s 3ms/step - loss: 0.1770 - val_loss: 0.2007\n",
      "Epoch 23/50\n",
      "48/48 [==============================] - 0s 3ms/step - loss: 0.1770 - val_loss: 0.2004\n",
      "Epoch 24/50\n",
      "48/48 [==============================] - 0s 3ms/step - loss: 0.1763 - val_loss: 0.2008\n",
      "Epoch 25/50\n",
      "48/48 [==============================] - 0s 3ms/step - loss: 0.1755 - val_loss: 0.2006\n",
      "Epoch 26/50\n",
      "48/48 [==============================] - 0s 3ms/step - loss: 0.1757 - val_loss: 0.2007\n",
      "Epoch 27/50\n",
      "48/48 [==============================] - 0s 3ms/step - loss: 0.1751 - val_loss: 0.2011\n",
      "Epoch 28/50\n",
      "48/48 [==============================] - 0s 3ms/step - loss: 0.1745 - val_loss: 0.2005\n",
      "Epoch 29/50\n",
      "48/48 [==============================] - 0s 3ms/step - loss: 0.1743 - val_loss: 0.2008\n",
      "Epoch 30/50\n",
      "48/48 [==============================] - 0s 3ms/step - loss: 0.1734 - val_loss: 0.2034\n",
      "Epoch 31/50\n",
      "48/48 [==============================] - 0s 3ms/step - loss: 0.1732 - val_loss: 0.2016\n",
      "Epoch 32/50\n",
      "48/48 [==============================] - 0s 3ms/step - loss: 0.1725 - val_loss: 0.2014\n",
      "Epoch 33/50\n",
      "48/48 [==============================] - 0s 3ms/step - loss: 0.1721 - val_loss: 0.2014\n",
      "Epoch 34/50\n",
      "48/48 [==============================] - 0s 3ms/step - loss: 0.1712 - val_loss: 0.2031\n",
      "Epoch 35/50\n",
      "48/48 [==============================] - 0s 3ms/step - loss: 0.1719 - val_loss: 0.2018\n",
      "Epoch 36/50\n",
      "48/48 [==============================] - 0s 3ms/step - loss: 0.1710 - val_loss: 0.2025\n",
      "Epoch 37/50\n",
      "48/48 [==============================] - 0s 3ms/step - loss: 0.1711 - val_loss: 0.2020\n",
      "Epoch 38/50\n",
      "48/48 [==============================] - 0s 3ms/step - loss: 0.1701 - val_loss: 0.2029\n",
      "Epoch 39/50\n",
      "48/48 [==============================] - 0s 3ms/step - loss: 0.1696 - val_loss: 0.2021\n",
      "Epoch 40/50\n",
      "48/48 [==============================] - 0s 3ms/step - loss: 0.1688 - val_loss: 0.2028\n",
      "Epoch 41/50\n",
      "48/48 [==============================] - 0s 3ms/step - loss: 0.1692 - val_loss: 0.2040\n",
      "Epoch 42/50\n",
      "48/48 [==============================] - 0s 3ms/step - loss: 0.1690 - val_loss: 0.2029\n",
      "Epoch 43/50\n",
      "48/48 [==============================] - 0s 3ms/step - loss: 0.1675 - val_loss: 0.2040\n",
      "Epoch 44/50\n",
      "48/48 [==============================] - 0s 3ms/step - loss: 0.1681 - val_loss: 0.2037\n",
      "Epoch 45/50\n",
      "48/48 [==============================] - 0s 3ms/step - loss: 0.1677 - val_loss: 0.2054\n",
      "Epoch 46/50\n",
      "48/48 [==============================] - 0s 3ms/step - loss: 0.1673 - val_loss: 0.2055\n",
      "Epoch 47/50\n",
      "48/48 [==============================] - 0s 3ms/step - loss: 0.1673 - val_loss: 0.2047\n",
      "Epoch 48/50\n",
      "48/48 [==============================] - 0s 3ms/step - loss: 0.1666 - val_loss: 0.2035\n",
      "Epoch 49/50\n",
      "48/48 [==============================] - 0s 3ms/step - loss: 0.1657 - val_loss: 0.2044\n",
      "Epoch 50/50\n",
      "48/48 [==============================] - 0s 4ms/step - loss: 0.1659 - val_loss: 0.2054\n",
      "Minimum Validation Loss: 0.1980\n"
     ]
    },
    {
     "data": {
      "image/png": "[encoded data removed]",
      "text/plain": [
       "<Figure size 640x480 with 1 Axes>"
      ]
     },
     "metadata": {},
     "output_type": "display_data"
    }
   ],
   "source": [
    "model = keras.Sequential([\n",
    "    layers.Dense(128, activation='relu', input_shape=input_shape),\n",
    "    layers.Dense(64, activation='relu'),\n",
    "    layers.Dense(1)\n",
    "])\n",
    "model.compile(\n",
    "    optimizer='adam',\n",
    "    loss='mae',\n",
    ")\n",
    "history = model.fit(\n",
    "    X_train, y_train,\n",
    "    validation_data=(X_valid, y_valid),\n",
    "    batch_size=512,\n",
    "    epochs=50,\n",
    ")\n",
    "history_df = pd.DataFrame(history.history)\n",
    "history_df.loc[:, ['loss', 'val_loss']].plot()\n",
    "print(\"Minimum Validation Loss: {:0.4f}\".format(history_df['val_loss'].min()));"
   ]
  },
  {
   "cell_type": "markdown",
   "id": "7700bd7c",
   "metadata": {
    "papermill": {
     "duration": 0.016074,
     "end_time": "2025-04-07T12:55:09.956515",
     "exception": false,
     "start_time": "2025-04-07T12:55:09.940441",
     "status": "completed"
    },
    "tags": []
   },
   "source": [
    "# 2) Add Capacity\n",
    "\n",
    "What is your evaluation of these curves? Underfitting, overfitting, just right?"
   ]
  },
  {
   "cell_type": "code",
   "execution_count": 7,
   "id": "21742560",
   "metadata": {
    "execution": {
     "iopub.execute_input": "2025-04-07T12:55:09.988746Z",
     "iopub.status.busy": "2025-04-07T12:55:09.988485Z",
     "iopub.status.idle": "2025-04-07T12:55:09.995367Z",
     "shell.execute_reply": "2025-04-07T12:55:09.994576Z"
    },
    "papermill": {
     "duration": 0.024993,
     "end_time": "2025-04-07T12:55:09.996908",
     "exception": false,
     "start_time": "2025-04-07T12:55:09.971915",
     "status": "completed"
    },
    "tags": []
   },
   "outputs": [
    {
     "data": {
      "application/javascript": [
       "parent.postMessage({\"jupyterEvent\": \"custom.exercise_interaction\", \"data\": {\"outcomeType\": 1, \"valueTowardsCompletion\": 0.25, \"interactionType\": 1, \"questionType\": 4, \"questionId\": \"2_Q2\", \"learnToolsVersion\": \"0.3.4\", \"failureMessage\": \"\", \"exceptionClass\": \"\", \"trace\": \"\"}}, \"*\")"
      ],
      "text/plain": [
       "<IPython.core.display.Javascript object>"
      ]
     },
     "metadata": {},
     "output_type": "display_data"
    },
    {
     "data": {
      "text/markdown": [
       "<span style=\"color:#33cc33\">Correct:</span> \n",
       "\n",
       "Now the validation loss begins to rise very early, while the training loss continues to decrease. This indicates that the network has begun to overfit. At this point, we would need to try something to prevent it, either by reducing the number of units or through a method like early stopping. (We'll see another in the next lesson!)"
      ],
      "text/plain": [
       "Correct: \n",
       "\n",
       "Now the validation loss begins to rise very early, while the training loss continues to decrease. This indicates that the network has begun to overfit. At this point, we would need to try something to prevent it, either by reducing the number of units or through a method like early stopping. (We'll see another in the next lesson!)"
      ]
     },
     "metadata": {},
     "output_type": "display_data"
    }
   ],
   "source": [
    "# View the solution (Run this cell to receive credit!)\n",
    "q_2.check()"
   ]
  },
  {
   "cell_type": "markdown",
   "id": "adcccd1d",
   "metadata": {
    "papermill": {
     "duration": 0.015227,
     "end_time": "2025-04-07T12:55:10.028288",
     "exception": false,
     "start_time": "2025-04-07T12:55:10.013061",
     "status": "completed"
    },
    "tags": []
   },
   "source": [
    "# 3) Define Early Stopping Callback\n",
    "\n",
    "Now define an early stopping callback that waits 5 epochs (`patience'`) for a change in validation loss of at least `0.001` (`min_delta`) and keeps the weights with the best loss (`restore_best_weights`)."
   ]
  },
  {
   "cell_type": "code",
   "execution_count": 8,
   "id": "ba20ec93",
   "metadata": {
    "execution": {
     "iopub.execute_input": "2025-04-07T12:55:10.060424Z",
     "iopub.status.busy": "2025-04-07T12:55:10.059948Z",
     "iopub.status.idle": "2025-04-07T12:55:10.066834Z",
     "shell.execute_reply": "2025-04-07T12:55:10.066022Z"
    },
    "lines_to_next_cell": 0,
    "papermill": {
     "duration": 0.024759,
     "end_time": "2025-04-07T12:55:10.068532",
     "exception": false,
     "start_time": "2025-04-07T12:55:10.043773",
     "status": "completed"
    },
    "tags": []
   },
   "outputs": [
    {
     "data": {
      "application/javascript": [
       "parent.postMessage({\"jupyterEvent\": \"custom.exercise_interaction\", \"data\": {\"outcomeType\": 1, \"valueTowardsCompletion\": 0.25, \"interactionType\": 1, \"questionType\": 2, \"questionId\": \"3_Q3\", \"learnToolsVersion\": \"0.3.4\", \"failureMessage\": \"\", \"exceptionClass\": \"\", \"trace\": \"\"}}, \"*\")"
      ],
      "text/plain": [
       "<IPython.core.display.Javascript object>"
      ]
     },
     "metadata": {},
     "output_type": "display_data"
    },
    {
     "data": {
      "text/markdown": [
       "<span style=\"color:#33cc33\">Correct</span>"
      ],
      "text/plain": [
       "Correct"
      ]
     },
     "metadata": {},
     "output_type": "display_data"
    }
   ],
   "source": [
    "from tensorflow.keras import callbacks\n",
    "\n",
    "# YOUR CODE HERE: define an early stopping callback\n",
    "early_stopping = callbacks.EarlyStopping(\n",
    "    patience=5,\n",
    "    min_delta=0.001,\n",
    "    restore_best_weights=True,\n",
    ")\n",
    "\n",
    "# Check your answer\n",
    "q_3.check()"
   ]
  },
  {
   "cell_type": "markdown",
   "id": "abf8e4b1",
   "metadata": {
    "papermill": {
     "duration": 0.015474,
     "end_time": "2025-04-07T12:55:10.099642",
     "exception": false,
     "start_time": "2025-04-07T12:55:10.084168",
     "status": "completed"
    },
    "tags": []
   },
   "source": [
    "Now run this cell to train the model and get the learning curves. Notice the `callbacks` argument in `model.fit`."
   ]
  },
  {
   "cell_type": "code",
   "execution_count": 9,
   "id": "c198bba2",
   "metadata": {
    "execution": {
     "iopub.execute_input": "2025-04-07T12:55:10.132338Z",
     "iopub.status.busy": "2025-04-07T12:55:10.131701Z",
     "iopub.status.idle": "2025-04-07T12:55:12.879959Z",
     "shell.execute_reply": "2025-04-07T12:55:12.879117Z"
    },
    "papermill": {
     "duration": 2.766614,
     "end_time": "2025-04-07T12:55:12.881923",
     "exception": false,
     "start_time": "2025-04-07T12:55:10.115309",
     "status": "completed"
    },
    "tags": []
   },
   "outputs": [
    {
     "name": "stdout",
     "output_type": "stream",
     "text": [
      "Epoch 1/50\n",
      "48/48 [==============================] - 1s 6ms/step - loss: 0.2194 - val_loss: 0.2049\n",
      "Epoch 2/50\n",
      "48/48 [==============================] - 0s 3ms/step - loss: 0.1978 - val_loss: 0.2024\n",
      "Epoch 3/50\n",
      "48/48 [==============================] - 0s 3ms/step - loss: 0.1944 - val_loss: 0.2010\n",
      "Epoch 4/50\n",
      "48/48 [==============================] - 0s 3ms/step - loss: 0.1912 - val_loss: 0.1981\n",
      "Epoch 5/50\n",
      "48/48 [==============================] - 0s 3ms/step - loss: 0.1891 - val_loss: 0.1984\n",
      "Epoch 6/50\n",
      "48/48 [==============================] - 0s 3ms/step - loss: 0.1879 - val_loss: 0.1975\n",
      "Epoch 7/50\n",
      "48/48 [==============================] - 0s 3ms/step - loss: 0.1869 - val_loss: 0.1982\n",
      "Epoch 8/50\n",
      "48/48 [==============================] - 0s 3ms/step - loss: 0.1859 - val_loss: 0.1982\n",
      "Epoch 9/50\n",
      "48/48 [==============================] - 0s 3ms/step - loss: 0.1848 - val_loss: 0.1979\n",
      "Minimum Validation Loss: 0.1975\n"
     ]
    },
    {
     "data": {
      "image/png": "[encoded data removed]",
      "text/plain": [
       "<Figure size 640x480 with 1 Axes>"
      ]
     },
     "metadata": {},
     "output_type": "display_data"
    }
   ],
   "source": [
    "model = keras.Sequential([\n",
    "    layers.Dense(128, activation='relu', input_shape=input_shape),\n",
    "    layers.Dense(64, activation='relu'),    \n",
    "    layers.Dense(1)\n",
    "])\n",
    "model.compile(\n",
    "    optimizer='adam',\n",
    "    loss='mae',\n",
    ")\n",
    "history = model.fit(\n",
    "    X_train, y_train,\n",
    "    validation_data=(X_valid, y_valid),\n",
    "    batch_size=512,\n",
    "    epochs=50,\n",
    "    callbacks=[early_stopping]\n",
    ")\n",
    "history_df = pd.DataFrame(history.history)\n",
    "history_df.loc[:, ['loss', 'val_loss']].plot()\n",
    "print(\"Minimum Validation Loss: {:0.4f}\".format(history_df['val_loss'].min()));"
   ]
  },
  {
   "cell_type": "markdown",
   "id": "40947f69",
   "metadata": {
    "papermill": {
     "duration": 0.018995,
     "end_time": "2025-04-07T12:55:12.921558",
     "exception": false,
     "start_time": "2025-04-07T12:55:12.902563",
     "status": "completed"
    },
    "tags": []
   },
   "source": [
    "# 4) Train and Interpret\n",
    "\n",
    "Was this an improvement compared to training without early stopping?"
   ]
  },
  {
   "cell_type": "code",
   "execution_count": 10,
   "id": "b731134d",
   "metadata": {
    "execution": {
     "iopub.execute_input": "2025-04-07T12:55:12.959980Z",
     "iopub.status.busy": "2025-04-07T12:55:12.959653Z",
     "iopub.status.idle": "2025-04-07T12:55:12.966688Z",
     "shell.execute_reply": "2025-04-07T12:55:12.965876Z"
    },
    "papermill": {
     "duration": 0.028318,
     "end_time": "2025-04-07T12:55:12.968271",
     "exception": false,
     "start_time": "2025-04-07T12:55:12.939953",
     "status": "completed"
    },
    "tags": []
   },
   "outputs": [
    {
     "data": {
      "application/javascript": [
       "parent.postMessage({\"jupyterEvent\": \"custom.exercise_interaction\", \"data\": {\"outcomeType\": 1, \"valueTowardsCompletion\": 0.25, \"interactionType\": 1, \"questionType\": 4, \"questionId\": \"4_Q4\", \"learnToolsVersion\": \"0.3.4\", \"failureMessage\": \"\", \"exceptionClass\": \"\", \"trace\": \"\"}}, \"*\")"
      ],
      "text/plain": [
       "<IPython.core.display.Javascript object>"
      ]
     },
     "metadata": {},
     "output_type": "display_data"
    },
    {
     "data": {
      "text/markdown": [
       "<span style=\"color:#33cc33\">Correct:</span> \n",
       "\n",
       "The early stopping callback did stop the training once the network began overfitting. Moreover, by including `restore_best_weights` we still get to keep the model where validation loss was lowest."
      ],
      "text/plain": [
       "Correct: \n",
       "\n",
       "The early stopping callback did stop the training once the network began overfitting. Moreover, by including `restore_best_weights` we still get to keep the model where validation loss was lowest."
      ]
     },
     "metadata": {},
     "output_type": "display_data"
    }
   ],
   "source": [
    "# View the solution (Run this cell to receive credit!)\n",
    "q_4.check()"
   ]
  }
 ],
 "metadata": {
  "jupytext": {
   "cell_metadata_filter": "-all",
   "formats": "ipynb"
  },
  "kaggle": {
   "accelerator": "gpu",
   "dataSources": [
    {
     "datasetId": 829369,
     "sourceId": 1480608,
     "sourceType": "datasetVersion"
    }
   ],
   "dockerImageVersionId": 30648,
   "isGpuEnabled": true,
   "isInternetEnabled": false,
   "language": "python",
   "sourceType": "notebook"
  },
  "kernelspec": {
   "display_name": "Python 3",
   "language": "python",
   "name": "python3"
  },
  "language_info": {
   "codemirror_mode": {
    "name": "ipython",
    "version": 3
   },
   "file_extension": ".py",
   "mimetype": "text/x-python",
   "name": "python",
   "nbconvert_exporter": "python",
   "pygments_lexer": "ipython3",
   "version": "3.10.13"
  },
  "papermill": {
   "default_parameters": {},
   "duration": 41.126101,
   "end_time": "2025-04-07T12:55:15.657701",
   "environment_variables": {},
   "exception": null,
   "input_path": "__notebook__.ipynb",
   "output_path": "__notebook__.ipynb",
   "parameters": {},
   "start_time": "2025-04-07T12:54:34.531600",
   "version": "2.5.0"
  }
 },
 "nbformat": 4,
 "nbformat_minor": 5
}
