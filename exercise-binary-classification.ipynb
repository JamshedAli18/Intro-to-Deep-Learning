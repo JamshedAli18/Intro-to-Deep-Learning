{
 "cells": [
  {
   "cell_type": "markdown",
   "id": "dc05a99e",
   "metadata": {
    "papermill": {
     "duration": 0.003,
     "end_time": "2025-04-08T05:00:56.723379",
     "exception": false,
     "start_time": "2025-04-08T05:00:56.720379",
     "status": "completed"
    },
    "tags": []
   },
   "source": [
    "**This notebook is an exercise in the [Intro to Deep Learning](https://www.kaggle.com/learn/intro-to-deep-learning) course.  You can reference the tutorial at [this link](https://www.kaggle.com/ryanholbrook/binary-classification).**\n",
    "\n",
    "---\n"
   ]
  },
  {
   "cell_type": "markdown",
   "id": "0aaffe2e",
   "metadata": {
    "papermill": {
     "duration": 0.00224,
     "end_time": "2025-04-08T05:00:56.728345",
     "exception": false,
     "start_time": "2025-04-08T05:00:56.726105",
     "status": "completed"
    },
    "tags": []
   },
   "source": [
    "# Introduction #\n",
    "\n",
    "In this exercise, you'll build a model to predict hotel cancellations with a binary classifier."
   ]
  },
  {
   "cell_type": "code",
   "execution_count": 1,
   "id": "7274e1e7",
   "metadata": {
    "execution": {
     "iopub.execute_input": "2025-04-08T05:00:56.734424Z",
     "iopub.status.busy": "2025-04-08T05:00:56.734059Z",
     "iopub.status.idle": "2025-04-08T05:00:57.463544Z",
     "shell.execute_reply": "2025-04-08T05:00:57.462670Z"
    },
    "lines_to_next_cell": 0,
    "papermill": {
     "duration": 0.734979,
     "end_time": "2025-04-08T05:00:57.465682",
     "exception": false,
     "start_time": "2025-04-08T05:00:56.730703",
     "status": "completed"
    },
    "tags": []
   },
   "outputs": [
    {
     "name": "stderr",
     "output_type": "stream",
     "text": [
      "/tmp/ipykernel_26/3338970720.py:3: MatplotlibDeprecationWarning: The seaborn styles shipped by Matplotlib are deprecated since 3.6, as they no longer correspond to the styles shipped by seaborn. However, they will remain available as 'seaborn-v0_8-<style>'. Alternatively, directly use the seaborn API instead.\n",
      "  plt.style.use('seaborn-whitegrid')\n"
     ]
    }
   ],
   "source": [
    "# Setup plotting\n",
    "import matplotlib.pyplot as plt\n",
    "plt.style.use('seaborn-whitegrid')\n",
    "# Set Matplotlib defaults\n",
    "plt.rc('figure', autolayout=True)\n",
    "plt.rc('axes', labelweight='bold', labelsize='large',\n",
    "       titleweight='bold', titlesize=18, titlepad=10)\n",
    "plt.rc('animation', html='html5')\n",
    "\n",
    "# Setup feedback system\n",
    "from learntools.core import binder\n",
    "binder.bind(globals())\n",
    "from learntools.deep_learning_intro.ex6 import *"
   ]
  },
  {
   "cell_type": "markdown",
   "id": "b60451fc",
   "metadata": {
    "papermill": {
     "duration": 0.00246,
     "end_time": "2025-04-08T05:00:57.471032",
     "exception": false,
     "start_time": "2025-04-08T05:00:57.468572",
     "status": "completed"
    },
    "tags": []
   },
   "source": [
    "First, load the *Hotel Cancellations* dataset."
   ]
  },
  {
   "cell_type": "code",
   "execution_count": 2,
   "id": "a0699c8a",
   "metadata": {
    "execution": {
     "iopub.execute_input": "2025-04-08T05:00:57.477653Z",
     "iopub.status.busy": "2025-04-08T05:00:57.476866Z",
     "iopub.status.idle": "2025-04-08T05:00:59.775535Z",
     "shell.execute_reply": "2025-04-08T05:00:59.774478Z"
    },
    "lines_to_next_cell": 2,
    "papermill": {
     "duration": 2.304146,
     "end_time": "2025-04-08T05:00:59.777657",
     "exception": false,
     "start_time": "2025-04-08T05:00:57.473511",
     "status": "completed"
    },
    "tags": []
   },
   "outputs": [],
   "source": [
    "import pandas as pd\n",
    "\n",
    "from sklearn.model_selection import train_test_split\n",
    "from sklearn.preprocessing import StandardScaler, OneHotEncoder\n",
    "from sklearn.impute import SimpleImputer\n",
    "from sklearn.pipeline import make_pipeline\n",
    "from sklearn.compose import make_column_transformer\n",
    "\n",
    "hotel = pd.read_csv('../input/dl-course-data/hotel.csv')\n",
    "\n",
    "X = hotel.copy()\n",
    "y = X.pop('is_canceled')\n",
    "\n",
    "X['arrival_date_month'] = \\\n",
    "    X['arrival_date_month'].map(\n",
    "        {'January':1, 'February': 2, 'March':3,\n",
    "         'April':4, 'May':5, 'June':6, 'July':7,\n",
    "         'August':8, 'September':9, 'October':10,\n",
    "         'November':11, 'December':12}\n",
    "    )\n",
    "\n",
    "features_num = [\n",
    "    \"lead_time\", \"arrival_date_week_number\",\n",
    "    \"arrival_date_day_of_month\", \"stays_in_weekend_nights\",\n",
    "    \"stays_in_week_nights\", \"adults\", \"children\", \"babies\",\n",
    "    \"is_repeated_guest\", \"previous_cancellations\",\n",
    "    \"previous_bookings_not_canceled\", \"required_car_parking_spaces\",\n",
    "    \"total_of_special_requests\", \"adr\",\n",
    "]\n",
    "features_cat = [\n",
    "    \"hotel\", \"arrival_date_month\", \"meal\",\n",
    "    \"market_segment\", \"distribution_channel\",\n",
    "    \"reserved_room_type\", \"deposit_type\", \"customer_type\",\n",
    "]\n",
    "\n",
    "transformer_num = make_pipeline(\n",
    "    SimpleImputer(strategy=\"constant\"), # there are a few missing values\n",
    "    StandardScaler(),\n",
    ")\n",
    "transformer_cat = make_pipeline(\n",
    "    SimpleImputer(strategy=\"constant\", fill_value=\"NA\"),\n",
    "    OneHotEncoder(handle_unknown='ignore'),\n",
    ")\n",
    "\n",
    "preprocessor = make_column_transformer(\n",
    "    (transformer_num, features_num),\n",
    "    (transformer_cat, features_cat),\n",
    ")\n",
    "\n",
    "# stratify - make sure classes are evenlly represented across splits\n",
    "X_train, X_valid, y_train, y_valid = \\\n",
    "    train_test_split(X, y, stratify=y, train_size=0.75)\n",
    "\n",
    "X_train = preprocessor.fit_transform(X_train)\n",
    "X_valid = preprocessor.transform(X_valid)\n",
    "\n",
    "input_shape = [X_train.shape[1]]"
   ]
  },
  {
   "cell_type": "markdown",
   "id": "24dd1cda",
   "metadata": {
    "papermill": {
     "duration": 0.002512,
     "end_time": "2025-04-08T05:00:59.782928",
     "exception": false,
     "start_time": "2025-04-08T05:00:59.780416",
     "status": "completed"
    },
    "tags": []
   },
   "source": [
    "# 1) Define Model #\n",
    "\n",
    "The model we'll use this time will have both batch normalization and dropout layers. To ease reading we've broken the diagram into blocks, but you can define it layer by layer as usual.\n",
    "\n",
    "Define a model with an architecture given by this diagram:\n",
    "\n",
    "<figure style=\"padding: 1em;\">\n",
    "<img src=\"https://storage.googleapis.com/kaggle-media/learn/images/V04o59Z.png\" width=\"400\" alt=\"Diagram of network architecture: BatchNorm, Dense, BatchNorm, Dropout, Dense, BatchNorm, Dropout, Dense.\">\n",
    "<figcaption style=\"textalign: center; font-style: italic\"><center>Diagram of a binary classifier.</center></figcaption>\n",
    "</figure>\n"
   ]
  },
  {
   "cell_type": "code",
   "execution_count": 3,
   "id": "cfe47291",
   "metadata": {
    "execution": {
     "iopub.execute_input": "2025-04-08T05:00:59.789292Z",
     "iopub.status.busy": "2025-04-08T05:00:59.788802Z",
     "iopub.status.idle": "2025-04-08T05:01:12.035718Z",
     "shell.execute_reply": "2025-04-08T05:01:12.034544Z"
    },
    "lines_to_next_cell": 2,
    "papermill": {
     "duration": 12.253396,
     "end_time": "2025-04-08T05:01:12.038755",
     "exception": false,
     "start_time": "2025-04-08T05:00:59.785359",
     "status": "completed"
    },
    "tags": []
   },
   "outputs": [
    {
     "name": "stderr",
     "output_type": "stream",
     "text": [
      "2025-04-08 05:01:01.493688: E external/local_xla/xla/stream_executor/cuda/cuda_dnn.cc:9261] Unable to register cuDNN factory: Attempting to register factory for plugin cuDNN when one has already been registered\n",
      "2025-04-08 05:01:01.493806: E external/local_xla/xla/stream_executor/cuda/cuda_fft.cc:607] Unable to register cuFFT factory: Attempting to register factory for plugin cuFFT when one has already been registered\n",
      "2025-04-08 05:01:01.610949: E external/local_xla/xla/stream_executor/cuda/cuda_blas.cc:1515] Unable to register cuBLAS factory: Attempting to register factory for plugin cuBLAS when one has already been registered\n"
     ]
    },
    {
     "data": {
      "application/javascript": [
       "parent.postMessage({\"jupyterEvent\": \"custom.exercise_interaction\", \"data\": {\"outcomeType\": 1, \"valueTowardsCompletion\": 0.3333333333333333, \"interactionType\": 1, \"questionType\": 2, \"questionId\": \"1_Q1\", \"learnToolsVersion\": \"0.3.4\", \"failureMessage\": \"\", \"exceptionClass\": \"\", \"trace\": \"\"}}, \"*\")"
      ],
      "text/plain": [
       "<IPython.core.display.Javascript object>"
      ]
     },
     "metadata": {},
     "output_type": "display_data"
    },
    {
     "data": {
      "text/markdown": [
       "<span style=\"color:#33cc33\">Correct</span>"
      ],
      "text/plain": [
       "Correct"
      ]
     },
     "metadata": {},
     "output_type": "display_data"
    },
    {
     "data": {
      "application/javascript": [
       "parent.postMessage({\"jupyterEvent\": \"custom.exercise_interaction\", \"data\": {\"outcomeType\": 1, \"valueTowardsCompletion\": 0.3333333333333333, \"interactionType\": 1, \"questionType\": 2, \"questionId\": \"1_Q1\", \"learnToolsVersion\": \"0.3.4\", \"failureMessage\": \"\", \"exceptionClass\": \"\", \"trace\": \"\"}}, \"*\")"
      ],
      "text/plain": [
       "<IPython.core.display.Javascript object>"
      ]
     },
     "metadata": {},
     "output_type": "display_data"
    },
    {
     "data": {
      "text/markdown": [
       "<span style=\"color:#33cc33\">Correct</span>"
      ],
      "text/plain": [
       "Correct"
      ]
     },
     "metadata": {},
     "output_type": "display_data"
    }
   ],
   "source": [
    "from tensorflow import keras\n",
    "from tensorflow.keras import layers\n",
    "\n",
    "# YOUR CODE HERE: define the model given in the diagram\n",
    "model = keras.Sequential([\n",
    "    layers.BatchNormalization(input_shape=input_shape),\n",
    "    layers.Dense(256, activation='relu'),\n",
    "    layers.BatchNormalization(),\n",
    "    layers.Dropout(0.3),\n",
    "    layers.Dense(256, activation='relu'),\n",
    "    layers.BatchNormalization(),\n",
    "    layers.Dropout(0.3),\n",
    "    layers.Dense(1, activation='sigmoid'),\n",
    "])\n",
    "q_1.assert_check_passed()\n",
    "\n",
    "# Check your answer\n",
    "q_1.check()"
   ]
  },
  {
   "cell_type": "markdown",
   "id": "a55e2baf",
   "metadata": {
    "papermill": {
     "duration": 0.003496,
     "end_time": "2025-04-08T05:01:12.047256",
     "exception": false,
     "start_time": "2025-04-08T05:01:12.043760",
     "status": "completed"
    },
    "tags": []
   },
   "source": [
    "# 2) Add Optimizer, Loss, and Metric #\n",
    "\n",
    "Now compile the model with the Adam optimizer and binary versions of the cross-entropy loss and accuracy metric."
   ]
  },
  {
   "cell_type": "code",
   "execution_count": 4,
   "id": "eb809f3b",
   "metadata": {
    "execution": {
     "iopub.execute_input": "2025-04-08T05:01:12.056526Z",
     "iopub.status.busy": "2025-04-08T05:01:12.055763Z",
     "iopub.status.idle": "2025-04-08T05:01:12.079343Z",
     "shell.execute_reply": "2025-04-08T05:01:12.078439Z"
    },
    "lines_to_next_cell": 0,
    "papermill": {
     "duration": 0.030174,
     "end_time": "2025-04-08T05:01:12.080980",
     "exception": false,
     "start_time": "2025-04-08T05:01:12.050806",
     "status": "completed"
    },
    "tags": []
   },
   "outputs": [
    {
     "data": {
      "application/javascript": [
       "parent.postMessage({\"jupyterEvent\": \"custom.exercise_interaction\", \"data\": {\"outcomeType\": 1, \"valueTowardsCompletion\": 0.3333333333333333, \"interactionType\": 1, \"questionType\": 2, \"questionId\": \"2_Q2\", \"learnToolsVersion\": \"0.3.4\", \"failureMessage\": \"\", \"exceptionClass\": \"\", \"trace\": \"\"}}, \"*\")"
      ],
      "text/plain": [
       "<IPython.core.display.Javascript object>"
      ]
     },
     "metadata": {},
     "output_type": "display_data"
    },
    {
     "data": {
      "text/markdown": [
       "<span style=\"color:#33cc33\">Correct</span>"
      ],
      "text/plain": [
       "Correct"
      ]
     },
     "metadata": {},
     "output_type": "display_data"
    }
   ],
   "source": [
    "# YOUR CODE HERE\n",
    "model.compile(\n",
    "    optimizer='adam',\n",
    "    loss='binary_crossentropy',\n",
    "    metrics=['binary_accuracy'],\n",
    ")\n",
    "\n",
    "# Check your answer\n",
    "q_2.check()"
   ]
  },
  {
   "cell_type": "markdown",
   "id": "8743d81d",
   "metadata": {
    "papermill": {
     "duration": 0.003508,
     "end_time": "2025-04-08T05:01:12.087915",
     "exception": false,
     "start_time": "2025-04-08T05:01:12.084407",
     "status": "completed"
    },
    "tags": []
   },
   "source": [
    "Finally, run this cell to train the model and view the learning curves. It may run for around 60 to 70 epochs, which could take a minute or two."
   ]
  },
  {
   "cell_type": "code",
   "execution_count": 5,
   "id": "5d3683ef",
   "metadata": {
    "execution": {
     "iopub.execute_input": "2025-04-08T05:01:12.095806Z",
     "iopub.status.busy": "2025-04-08T05:01:12.095341Z",
     "iopub.status.idle": "2025-04-08T05:01:50.621155Z",
     "shell.execute_reply": "2025-04-08T05:01:50.620301Z"
    },
    "papermill": {
     "duration": 38.531487,
     "end_time": "2025-04-08T05:01:50.622932",
     "exception": false,
     "start_time": "2025-04-08T05:01:12.091445",
     "status": "completed"
    },
    "tags": []
   },
   "outputs": [
    {
     "name": "stdout",
     "output_type": "stream",
     "text": [
      "Epoch 1/200\n"
     ]
    },
    {
     "name": "stderr",
     "output_type": "stream",
     "text": [
      "WARNING: All log messages before absl::InitializeLog() is called are written to STDERR\n",
      "I0000 00:00:1744088476.114904      66 device_compiler.h:186] Compiled cluster using XLA!  This line is logged at most once for the lifetime of the process.\n"
     ]
    },
    {
     "name": "stdout",
     "output_type": "stream",
     "text": [
      "175/175 [==============================] - 6s 6ms/step - loss: 0.4792 - binary_accuracy: 0.7750 - val_loss: 0.4356 - val_binary_accuracy: 0.8009\n",
      "Epoch 2/200\n",
      "175/175 [==============================] - 1s 5ms/step - loss: 0.4238 - binary_accuracy: 0.8005 - val_loss: 0.4034 - val_binary_accuracy: 0.8128\n",
      "Epoch 3/200\n",
      "175/175 [==============================] - 1s 5ms/step - loss: 0.4091 - binary_accuracy: 0.8070 - val_loss: 0.3956 - val_binary_accuracy: 0.8164\n",
      "Epoch 4/200\n",
      "175/175 [==============================] - 1s 5ms/step - loss: 0.4015 - binary_accuracy: 0.8122 - val_loss: 0.3911 - val_binary_accuracy: 0.8198\n",
      "Epoch 5/200\n",
      "175/175 [==============================] - 1s 5ms/step - loss: 0.3960 - binary_accuracy: 0.8137 - val_loss: 0.3894 - val_binary_accuracy: 0.8233\n",
      "Epoch 6/200\n",
      "175/175 [==============================] - 1s 5ms/step - loss: 0.3925 - binary_accuracy: 0.8170 - val_loss: 0.3854 - val_binary_accuracy: 0.8235\n",
      "Epoch 7/200\n",
      "175/175 [==============================] - 1s 5ms/step - loss: 0.3883 - binary_accuracy: 0.8195 - val_loss: 0.3821 - val_binary_accuracy: 0.8271\n",
      "Epoch 8/200\n",
      "175/175 [==============================] - 1s 5ms/step - loss: 0.3827 - binary_accuracy: 0.8223 - val_loss: 0.3775 - val_binary_accuracy: 0.8278\n",
      "Epoch 9/200\n",
      "175/175 [==============================] - 1s 5ms/step - loss: 0.3808 - binary_accuracy: 0.8229 - val_loss: 0.3740 - val_binary_accuracy: 0.8293\n",
      "Epoch 10/200\n",
      "175/175 [==============================] - 1s 5ms/step - loss: 0.3775 - binary_accuracy: 0.8252 - val_loss: 0.3733 - val_binary_accuracy: 0.8299\n",
      "Epoch 11/200\n",
      "175/175 [==============================] - 1s 5ms/step - loss: 0.3754 - binary_accuracy: 0.8259 - val_loss: 0.3747 - val_binary_accuracy: 0.8291\n",
      "Epoch 12/200\n",
      "175/175 [==============================] - 1s 5ms/step - loss: 0.3728 - binary_accuracy: 0.8265 - val_loss: 0.3711 - val_binary_accuracy: 0.8307\n",
      "Epoch 13/200\n",
      "175/175 [==============================] - 1s 5ms/step - loss: 0.3704 - binary_accuracy: 0.8284 - val_loss: 0.3693 - val_binary_accuracy: 0.8310\n",
      "Epoch 14/200\n",
      "175/175 [==============================] - 1s 5ms/step - loss: 0.3681 - binary_accuracy: 0.8302 - val_loss: 0.3725 - val_binary_accuracy: 0.8285\n",
      "Epoch 15/200\n",
      "175/175 [==============================] - 1s 5ms/step - loss: 0.3683 - binary_accuracy: 0.8288 - val_loss: 0.3679 - val_binary_accuracy: 0.8332\n",
      "Epoch 16/200\n",
      "175/175 [==============================] - 1s 5ms/step - loss: 0.3650 - binary_accuracy: 0.8308 - val_loss: 0.3687 - val_binary_accuracy: 0.8300\n",
      "Epoch 17/200\n",
      "175/175 [==============================] - 1s 5ms/step - loss: 0.3628 - binary_accuracy: 0.8326 - val_loss: 0.3654 - val_binary_accuracy: 0.8319\n",
      "Epoch 18/200\n",
      "175/175 [==============================] - 1s 5ms/step - loss: 0.3628 - binary_accuracy: 0.8318 - val_loss: 0.3630 - val_binary_accuracy: 0.8356\n",
      "Epoch 19/200\n",
      "175/175 [==============================] - 1s 5ms/step - loss: 0.3612 - binary_accuracy: 0.8335 - val_loss: 0.3674 - val_binary_accuracy: 0.8316\n",
      "Epoch 20/200\n",
      "175/175 [==============================] - 1s 6ms/step - loss: 0.3587 - binary_accuracy: 0.8333 - val_loss: 0.3627 - val_binary_accuracy: 0.8357\n",
      "Epoch 21/200\n",
      "175/175 [==============================] - 1s 5ms/step - loss: 0.3573 - binary_accuracy: 0.8349 - val_loss: 0.3614 - val_binary_accuracy: 0.8355\n",
      "Epoch 22/200\n",
      "175/175 [==============================] - 1s 5ms/step - loss: 0.3563 - binary_accuracy: 0.8342 - val_loss: 0.3596 - val_binary_accuracy: 0.8362\n",
      "Epoch 23/200\n",
      "175/175 [==============================] - 1s 5ms/step - loss: 0.3550 - binary_accuracy: 0.8348 - val_loss: 0.3606 - val_binary_accuracy: 0.8350\n",
      "Epoch 24/200\n",
      "175/175 [==============================] - 1s 5ms/step - loss: 0.3539 - binary_accuracy: 0.8355 - val_loss: 0.3605 - val_binary_accuracy: 0.8358\n",
      "Epoch 25/200\n",
      "175/175 [==============================] - 1s 5ms/step - loss: 0.3535 - binary_accuracy: 0.8359 - val_loss: 0.3575 - val_binary_accuracy: 0.8378\n",
      "Epoch 26/200\n",
      "175/175 [==============================] - 1s 5ms/step - loss: 0.3518 - binary_accuracy: 0.8370 - val_loss: 0.3576 - val_binary_accuracy: 0.8386\n",
      "Epoch 27/200\n",
      "175/175 [==============================] - 1s 5ms/step - loss: 0.3504 - binary_accuracy: 0.8376 - val_loss: 0.3570 - val_binary_accuracy: 0.8350\n",
      "Epoch 28/200\n",
      "175/175 [==============================] - 1s 5ms/step - loss: 0.3497 - binary_accuracy: 0.8384 - val_loss: 0.3561 - val_binary_accuracy: 0.8386\n",
      "Epoch 29/200\n",
      "175/175 [==============================] - 1s 5ms/step - loss: 0.3472 - binary_accuracy: 0.8391 - val_loss: 0.3582 - val_binary_accuracy: 0.8369\n",
      "Epoch 30/200\n",
      "175/175 [==============================] - 1s 5ms/step - loss: 0.3473 - binary_accuracy: 0.8400 - val_loss: 0.3549 - val_binary_accuracy: 0.8388\n",
      "Epoch 31/200\n",
      "175/175 [==============================] - 1s 5ms/step - loss: 0.3459 - binary_accuracy: 0.8401 - val_loss: 0.3532 - val_binary_accuracy: 0.8406\n",
      "Epoch 32/200\n",
      "175/175 [==============================] - 1s 5ms/step - loss: 0.3460 - binary_accuracy: 0.8405 - val_loss: 0.3568 - val_binary_accuracy: 0.8378\n",
      "Epoch 33/200\n",
      "175/175 [==============================] - 1s 5ms/step - loss: 0.3444 - binary_accuracy: 0.8407 - val_loss: 0.3542 - val_binary_accuracy: 0.8385\n",
      "Epoch 34/200\n",
      "175/175 [==============================] - 1s 5ms/step - loss: 0.3443 - binary_accuracy: 0.8405 - val_loss: 0.3534 - val_binary_accuracy: 0.8388\n",
      "Epoch 35/200\n",
      "175/175 [==============================] - 1s 5ms/step - loss: 0.3426 - binary_accuracy: 0.8415 - val_loss: 0.3530 - val_binary_accuracy: 0.8379\n",
      "Epoch 36/200\n",
      "175/175 [==============================] - 1s 5ms/step - loss: 0.3409 - binary_accuracy: 0.8432 - val_loss: 0.3543 - val_binary_accuracy: 0.8383\n"
     ]
    },
    {
     "data": {
      "text/plain": [
       "<Axes: title={'center': 'Accuracy'}>"
      ]
     },
     "execution_count": 5,
     "metadata": {},
     "output_type": "execute_result"
    },
    {
     "data": {
      "image/png": "[encoded data removed]",
      "text/plain": [
       "<Figure size 640x480 with 1 Axes>"
      ]
     },
     "metadata": {},
     "output_type": "display_data"
    },
    {
     "data": {
      "image/png": "[encoded data removed]",
      "text/plain": [
       "<Figure size 640x480 with 1 Axes>"
      ]
     },
     "metadata": {},
     "output_type": "display_data"
    }
   ],
   "source": [
    "early_stopping = keras.callbacks.EarlyStopping(\n",
    "    patience=5,\n",
    "    min_delta=0.001,\n",
    "    restore_best_weights=True,\n",
    ")\n",
    "history = model.fit(\n",
    "    X_train, y_train,\n",
    "    validation_data=(X_valid, y_valid),\n",
    "    batch_size=512,\n",
    "    epochs=200,\n",
    "    callbacks=[early_stopping],\n",
    ")\n",
    "\n",
    "history_df = pd.DataFrame(history.history)\n",
    "history_df.loc[:, ['loss', 'val_loss']].plot(title=\"Cross-entropy\")\n",
    "history_df.loc[:, ['binary_accuracy', 'val_binary_accuracy']].plot(title=\"Accuracy\")"
   ]
  },
  {
   "cell_type": "markdown",
   "id": "e00fba35",
   "metadata": {
    "papermill": {
     "duration": 0.030494,
     "end_time": "2025-04-08T05:01:50.684478",
     "exception": false,
     "start_time": "2025-04-08T05:01:50.653984",
     "status": "completed"
    },
    "tags": []
   },
   "source": [
    "# 3) Train and Evaluate #\n",
    "\n",
    "\n",
    "What do you think about the learning curves? Does it look like the model underfit or overfit? Was the cross-entropy loss a good stand-in for accuracy?"
   ]
  },
  {
   "cell_type": "code",
   "execution_count": 6,
   "id": "eec2eae5",
   "metadata": {
    "execution": {
     "iopub.execute_input": "2025-04-08T05:01:50.747358Z",
     "iopub.status.busy": "2025-04-08T05:01:50.746911Z",
     "iopub.status.idle": "2025-04-08T05:01:50.753938Z",
     "shell.execute_reply": "2025-04-08T05:01:50.753026Z"
    },
    "papermill": {
     "duration": 0.040715,
     "end_time": "2025-04-08T05:01:50.755759",
     "exception": false,
     "start_time": "2025-04-08T05:01:50.715044",
     "status": "completed"
    },
    "tags": []
   },
   "outputs": [
    {
     "data": {
      "application/javascript": [
       "parent.postMessage({\"jupyterEvent\": \"custom.exercise_interaction\", \"data\": {\"outcomeType\": 1, \"valueTowardsCompletion\": 0.3333333333333333, \"interactionType\": 1, \"questionType\": 4, \"questionId\": \"3_Q3\", \"learnToolsVersion\": \"0.3.4\", \"failureMessage\": \"\", \"exceptionClass\": \"\", \"trace\": \"\"}}, \"*\")"
      ],
      "text/plain": [
       "<IPython.core.display.Javascript object>"
      ]
     },
     "metadata": {},
     "output_type": "display_data"
    },
    {
     "data": {
      "text/markdown": [
       "<span style=\"color:#33cc33\">Correct:</span> \n",
       "\n",
       "Though we can see the training loss continuing to fall, the early stopping callback prevented any overfitting. Moreover, the accuracy rose at the same rate as the cross-entropy fell, so it appears that minimizing cross-entropy was a good stand-in. All in all, it looks like this training was a success!"
      ],
      "text/plain": [
       "Correct: \n",
       "\n",
       "Though we can see the training loss continuing to fall, the early stopping callback prevented any overfitting. Moreover, the accuracy rose at the same rate as the cross-entropy fell, so it appears that minimizing cross-entropy was a good stand-in. All in all, it looks like this training was a success!"
      ]
     },
     "metadata": {},
     "output_type": "display_data"
    }
   ],
   "source": [
    "# View the solution (Run this cell to receive credit!)\n",
    "q_3.check()"
   ]
  },
  {
   "cell_type": "markdown",
   "id": "ce8e4826",
   "metadata": {
    "papermill": {
     "duration": 0.030325,
     "end_time": "2025-04-08T05:01:50.817171",
     "exception": false,
     "start_time": "2025-04-08T05:01:50.786846",
     "status": "completed"
    },
    "tags": []
   },
   "source": [
    "---\n",
    "\n",
    "\n",
    "\n",
    "\n",
    "*Have questions or comments? Visit the [course discussion forum](https://www.kaggle.com/learn/intro-to-deep-learning/discussion) to chat with other learners.*"
   ]
  }
 ],
 "metadata": {
  "jupytext": {
   "cell_metadata_filter": "-all",
   "formats": "ipynb"
  },
  "kaggle": {
   "accelerator": "gpu",
   "dataSources": [
    {
     "datasetId": 829369,
     "sourceId": 1480608,
     "sourceType": "datasetVersion"
    }
   ],
   "dockerImageVersionId": 30648,
   "isGpuEnabled": true,
   "isInternetEnabled": false,
   "language": "python",
   "sourceType": "notebook"
  },
  "kernelspec": {
   "display_name": "Python 3",
   "language": "python",
   "name": "python3"
  },
  "language_info": {
   "codemirror_mode": {
    "name": "ipython",
    "version": 3
   },
   "file_extension": ".py",
   "mimetype": "text/x-python",
   "name": "python",
   "nbconvert_exporter": "python",
   "pygments_lexer": "ipython3",
   "version": "3.10.13"
  },
  "papermill": {
   "default_parameters": {},
   "duration": 59.130091,
   "end_time": "2025-04-08T05:01:53.345173",
   "environment_variables": {},
   "exception": null,
   "input_path": "__notebook__.ipynb",
   "output_path": "__notebook__.ipynb",
   "parameters": {},
   "start_time": "2025-04-08T05:00:54.215082",
   "version": "2.5.0"
  }
 },
 "nbformat": 4,
 "nbformat_minor": 5
}
